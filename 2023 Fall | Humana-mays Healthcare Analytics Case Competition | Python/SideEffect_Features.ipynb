{
 "cells": [
  {
   "cell_type": "code",
   "execution_count": 149,
   "outputs": [],
   "source": [
    "import pandas as pd\n",
    "import numpy as np\n",
    "import os\n",
    "import matplotlib.pyplot as plt\n",
    "import pandas as pd\n",
    "import seaborn as sns\n",
    "import json\n",
    "import pickle as pkl\n",
    "import re"
   ],
   "metadata": {
    "collapsed": false,
    "ExecuteTime": {
     "end_time": "2023-09-28T18:47:24.898700Z",
     "start_time": "2023-09-28T18:47:24.889109Z"
    }
   },
   "id": "54a7f66826965943"
  },
  {
   "cell_type": "code",
   "execution_count": 150,
   "outputs": [
    {
     "data": {
      "text/plain": "'/Users/arjbingly/Documents/GitHub/DataDrivenHealers_HumanaMaysHealthcareAnalytics23'"
     },
     "execution_count": 150,
     "metadata": {},
     "output_type": "execute_result"
    }
   ],
   "source": [
    "cwd_path = os.getcwd()\n",
    "cwd_path"
   ],
   "metadata": {
    "collapsed": false,
    "ExecuteTime": {
     "end_time": "2023-09-28T18:47:25.311327Z",
     "start_time": "2023-09-28T18:47:25.304514Z"
    }
   },
   "id": "4c20b5825668900d"
  },
  {
   "cell_type": "markdown",
   "source": [
    "### Codes related to Side Effects of Osimertinib"
   ],
   "metadata": {
    "collapsed": false
   },
   "id": "6a912fa3531d053e"
  },
  {
   "cell_type": "markdown",
   "source": [
    "The ICD-10 codes related to the side effects have been extracted in the file 'side_effect_codes.json' (as a dict)"
   ],
   "metadata": {
    "collapsed": false
   },
   "id": "a05ca34f74d6cc82"
  },
  {
   "cell_type": "code",
   "execution_count": 151,
   "outputs": [],
   "source": [
    "with open(f'{cwd_path}/SideEffects_ICD10/side_effect_codes.json', 'r') as f:\n",
    "    sf_codes = json.load(f)"
   ],
   "metadata": {
    "collapsed": false,
    "ExecuteTime": {
     "end_time": "2023-09-28T18:47:26.592042Z",
     "start_time": "2023-09-28T18:47:26.583242Z"
    }
   },
   "id": "981270b777ae6bb"
  },
  {
   "cell_type": "markdown",
   "source": [
    "Side effect groups"
   ],
   "metadata": {
    "collapsed": false
   },
   "id": "bfbc637fad668714"
  },
  {
   "cell_type": "code",
   "execution_count": 152,
   "outputs": [
    {
     "data": {
      "text/plain": "dict_keys(['Diarrhea', 'Eye', 'Infection', 'Nail', 'Neutropenia', 'QT', 'Skin', 'Stevens-Jhonson', 'Stomatitis', 'Thrombocytopenia'])"
     },
     "execution_count": 152,
     "metadata": {},
     "output_type": "execute_result"
    }
   ],
   "source": [
    "sf_codes.keys()"
   ],
   "metadata": {
    "collapsed": false,
    "ExecuteTime": {
     "end_time": "2023-09-28T18:47:27.667745Z",
     "start_time": "2023-09-28T18:47:27.663705Z"
    }
   },
   "id": "91da1c284374d6b1"
  },
  {
   "cell_type": "code",
   "execution_count": 173,
   "outputs": [
    {
     "data": {
      "text/plain": "9"
     },
     "execution_count": 173,
     "metadata": {},
     "output_type": "execute_result"
    }
   ],
   "source": [
    "len(sf_codes.keys())"
   ],
   "metadata": {
    "collapsed": false,
    "ExecuteTime": {
     "end_time": "2023-09-28T18:51:40.392940Z",
     "start_time": "2023-09-28T18:51:40.380465Z"
    }
   },
   "id": "fa373473bff5def8"
  },
  {
   "cell_type": "code",
   "execution_count": 153,
   "outputs": [
    {
     "name": "stdout",
     "output_type": "stream",
     "text": [
      "No of codes:\n",
      "Diarrhea : 23\n",
      "Eye : 2531\n",
      "Infection : 499\n",
      "Nail : 1227\n",
      "Neutropenia : 5\n",
      "QT : 1\n",
      "Skin : 468\n",
      "Stevens-Jhonson : 0\n",
      "Stomatitis : 6\n",
      "Thrombocytopenia : 38\n"
     ]
    }
   ],
   "source": [
    "print(f'No of codes:')\n",
    "for key in sf_codes.keys():\n",
    "    print(f'{key} : {len(sf_codes[key])}')"
   ],
   "metadata": {
    "collapsed": false,
    "ExecuteTime": {
     "end_time": "2023-09-28T18:47:28.085718Z",
     "start_time": "2023-09-28T18:47:28.075507Z"
    }
   },
   "id": "fe9384e2cb550b36"
  },
  {
   "cell_type": "code",
   "execution_count": 154,
   "outputs": [
    {
     "data": {
      "text/plain": "[]"
     },
     "execution_count": 154,
     "metadata": {},
     "output_type": "execute_result"
    }
   ],
   "source": [
    "sf_codes.pop('Stevens-Jhonson') #Since no codes exist"
   ],
   "metadata": {
    "collapsed": false,
    "ExecuteTime": {
     "end_time": "2023-09-28T18:47:28.504669Z",
     "start_time": "2023-09-28T18:47:28.497685Z"
    }
   },
   "id": "67051076e6105438"
  },
  {
   "cell_type": "markdown",
   "source": [
    "### Medical Claims"
   ],
   "metadata": {
    "collapsed": false
   },
   "id": "b21b369da266bfd5"
  },
  {
   "cell_type": "code",
   "execution_count": 155,
   "outputs": [],
   "source": [
    "medclms = pd.read_pickle(f'{cwd_path}/medclms_train_new.pkl')"
   ],
   "metadata": {
    "collapsed": false,
    "ExecuteTime": {
     "end_time": "2023-09-28T18:47:32.233798Z",
     "start_time": "2023-09-28T18:47:32.170506Z"
    }
   },
   "id": "f7f2a04646001656"
  },
  {
   "cell_type": "code",
   "execution_count": 156,
   "outputs": [
    {
     "data": {
      "text/plain": "              therapy_id   medclm_key      clm_unique_key primary_diag_cd  \\\n0  1066310426-TAGRISSO-1  35908472910  649143000473431803          I70292   \n1  1094522162-TAGRISSO-1  37189420103  934834000476811903           J9601   \n2  1104741185-TAGRISSO-1  37128499255  748244100476652103            E785   \n3  1012749208-TAGRISSO-1  36269844999  589034000474672103           C3492   \n4  1000110916-TAGRISSO-1  36448002258  663113000474981803           C3490   \n\n                 visit_date diag_cd2 diag_cd3 diag_cd4 diag_cd5 diag_cd6  ...  \\\n0  2019-09-10T00:00:00.000Z     I771     I739    R9431    Z7982   Z79899  ...   \n1  2020-08-21T00:00:00.000Z     J910      NaN      NaN      NaN      NaN  ...   \n2  2020-07-14T00:00:00.000Z      I10     J324      NaN      NaN      NaN  ...   \n3  2020-02-04T00:00:00.000Z   I825Z9  T83518A     N390     J942     J910  ...   \n4  2020-03-05T00:00:00.000Z      NaN      NaN      NaN      NaN      NaN  ...   \n\n  ade_diagnosis seizure_diagnosis pain_diagnosis fatigue_diagnosis  \\\n0             0                 0              0                 0   \n1             0                 0              0                 0   \n2             0                 0              0                 0   \n3             0                 0              0                 0   \n4             0                 0              0                 0   \n\n  nausea_diagnosis hyperglycemia_diagnosis constipation_diagnosis  \\\n0                0                       0                      0   \n1                0                       0                      0   \n2                0                       0                      0   \n3                0                       0                      0   \n4                0                       0                      0   \n\n  diarrhea_diagnosis primary_diag_parent_cd  primary_diag_group_cd  \n0                  0                    I70                I00-I99  \n1                  0                    J96                J00-J99  \n2                  0                    E78                E00-E89  \n3                  0                    C34                C00-D49  \n4                  0                    C34                C00-D49  \n\n[5 rows x 29 columns]",
      "text/html": "<div>\n<style scoped>\n    .dataframe tbody tr th:only-of-type {\n        vertical-align: middle;\n    }\n\n    .dataframe tbody tr th {\n        vertical-align: top;\n    }\n\n    .dataframe thead th {\n        text-align: right;\n    }\n</style>\n<table border=\"1\" class=\"dataframe\">\n  <thead>\n    <tr style=\"text-align: right;\">\n      <th></th>\n      <th>therapy_id</th>\n      <th>medclm_key</th>\n      <th>clm_unique_key</th>\n      <th>primary_diag_cd</th>\n      <th>visit_date</th>\n      <th>diag_cd2</th>\n      <th>diag_cd3</th>\n      <th>diag_cd4</th>\n      <th>diag_cd5</th>\n      <th>diag_cd6</th>\n      <th>...</th>\n      <th>ade_diagnosis</th>\n      <th>seizure_diagnosis</th>\n      <th>pain_diagnosis</th>\n      <th>fatigue_diagnosis</th>\n      <th>nausea_diagnosis</th>\n      <th>hyperglycemia_diagnosis</th>\n      <th>constipation_diagnosis</th>\n      <th>diarrhea_diagnosis</th>\n      <th>primary_diag_parent_cd</th>\n      <th>primary_diag_group_cd</th>\n    </tr>\n  </thead>\n  <tbody>\n    <tr>\n      <th>0</th>\n      <td>1066310426-TAGRISSO-1</td>\n      <td>35908472910</td>\n      <td>649143000473431803</td>\n      <td>I70292</td>\n      <td>2019-09-10T00:00:00.000Z</td>\n      <td>I771</td>\n      <td>I739</td>\n      <td>R9431</td>\n      <td>Z7982</td>\n      <td>Z79899</td>\n      <td>...</td>\n      <td>0</td>\n      <td>0</td>\n      <td>0</td>\n      <td>0</td>\n      <td>0</td>\n      <td>0</td>\n      <td>0</td>\n      <td>0</td>\n      <td>I70</td>\n      <td>I00-I99</td>\n    </tr>\n    <tr>\n      <th>1</th>\n      <td>1094522162-TAGRISSO-1</td>\n      <td>37189420103</td>\n      <td>934834000476811903</td>\n      <td>J9601</td>\n      <td>2020-08-21T00:00:00.000Z</td>\n      <td>J910</td>\n      <td>NaN</td>\n      <td>NaN</td>\n      <td>NaN</td>\n      <td>NaN</td>\n      <td>...</td>\n      <td>0</td>\n      <td>0</td>\n      <td>0</td>\n      <td>0</td>\n      <td>0</td>\n      <td>0</td>\n      <td>0</td>\n      <td>0</td>\n      <td>J96</td>\n      <td>J00-J99</td>\n    </tr>\n    <tr>\n      <th>2</th>\n      <td>1104741185-TAGRISSO-1</td>\n      <td>37128499255</td>\n      <td>748244100476652103</td>\n      <td>E785</td>\n      <td>2020-07-14T00:00:00.000Z</td>\n      <td>I10</td>\n      <td>J324</td>\n      <td>NaN</td>\n      <td>NaN</td>\n      <td>NaN</td>\n      <td>...</td>\n      <td>0</td>\n      <td>0</td>\n      <td>0</td>\n      <td>0</td>\n      <td>0</td>\n      <td>0</td>\n      <td>0</td>\n      <td>0</td>\n      <td>E78</td>\n      <td>E00-E89</td>\n    </tr>\n    <tr>\n      <th>3</th>\n      <td>1012749208-TAGRISSO-1</td>\n      <td>36269844999</td>\n      <td>589034000474672103</td>\n      <td>C3492</td>\n      <td>2020-02-04T00:00:00.000Z</td>\n      <td>I825Z9</td>\n      <td>T83518A</td>\n      <td>N390</td>\n      <td>J942</td>\n      <td>J910</td>\n      <td>...</td>\n      <td>0</td>\n      <td>0</td>\n      <td>0</td>\n      <td>0</td>\n      <td>0</td>\n      <td>0</td>\n      <td>0</td>\n      <td>0</td>\n      <td>C34</td>\n      <td>C00-D49</td>\n    </tr>\n    <tr>\n      <th>4</th>\n      <td>1000110916-TAGRISSO-1</td>\n      <td>36448002258</td>\n      <td>663113000474981803</td>\n      <td>C3490</td>\n      <td>2020-03-05T00:00:00.000Z</td>\n      <td>NaN</td>\n      <td>NaN</td>\n      <td>NaN</td>\n      <td>NaN</td>\n      <td>NaN</td>\n      <td>...</td>\n      <td>0</td>\n      <td>0</td>\n      <td>0</td>\n      <td>0</td>\n      <td>0</td>\n      <td>0</td>\n      <td>0</td>\n      <td>0</td>\n      <td>C34</td>\n      <td>C00-D49</td>\n    </tr>\n  </tbody>\n</table>\n<p>5 rows × 29 columns</p>\n</div>"
     },
     "execution_count": 156,
     "metadata": {},
     "output_type": "execute_result"
    }
   ],
   "source": [
    "medclms.head()"
   ],
   "metadata": {
    "collapsed": false,
    "ExecuteTime": {
     "end_time": "2023-09-28T18:47:32.933998Z",
     "start_time": "2023-09-28T18:47:32.926554Z"
    }
   },
   "id": "f976af87f25ce99e"
  },
  {
   "cell_type": "code",
   "execution_count": 157,
   "outputs": [
    {
     "data": {
      "text/plain": "Index(['therapy_id', 'medclm_key', 'clm_unique_key', 'primary_diag_cd',\n       'visit_date', 'diag_cd2', 'diag_cd3', 'diag_cd4', 'diag_cd5',\n       'diag_cd6', 'diag_cd7', 'diag_cd8', 'diag_cd9', 'process_date',\n       'reversal_ind', 'pot', 'util_cat', 'hedis_pot', 'clm_type',\n       'ade_diagnosis', 'seizure_diagnosis', 'pain_diagnosis',\n       'fatigue_diagnosis', 'nausea_diagnosis', 'hyperglycemia_diagnosis',\n       'constipation_diagnosis', 'diarrhea_diagnosis',\n       'primary_diag_parent_cd', 'primary_diag_group_cd'],\n      dtype='object')"
     },
     "execution_count": 157,
     "metadata": {},
     "output_type": "execute_result"
    }
   ],
   "source": [
    "medclms.columns"
   ],
   "metadata": {
    "collapsed": false,
    "ExecuteTime": {
     "end_time": "2023-09-28T18:47:33.752732Z",
     "start_time": "2023-09-28T18:47:33.723541Z"
    }
   },
   "id": "38fb5963aa907e2a"
  },
  {
   "cell_type": "markdown",
   "source": [
    "The medclms dataframe has a person identifier - 'therapy_id'\n",
    "primary diagnosis code - 'primary_diag_cd'\n",
    "secondary diagnosis codes - 'diag_cd2', 'daig_cd3', ... ,'diag_cd9'"
   ],
   "metadata": {
    "collapsed": false
   },
   "id": "659852c773591d45"
  },
  {
   "cell_type": "code",
   "execution_count": 158,
   "outputs": [],
   "source": [
    "# cols with diagnosis codes\n",
    "diag_cols = ['primary_diag_cd', 'diag_cd2', 'diag_cd3', 'diag_cd4', 'diag_cd5', 'diag_cd6', 'diag_cd7', 'diag_cd8', 'diag_cd9']"
   ],
   "metadata": {
    "collapsed": false,
    "ExecuteTime": {
     "end_time": "2023-09-28T18:47:35.104537Z",
     "start_time": "2023-09-28T18:47:35.092969Z"
    }
   },
   "id": "ac5853d3debbe466"
  },
  {
   "cell_type": "code",
   "execution_count": 159,
   "outputs": [],
   "source": [
    "# makign the person_id as index\n",
    "medclms = medclms.set_index('therapy_id')"
   ],
   "metadata": {
    "collapsed": false,
    "ExecuteTime": {
     "end_time": "2023-09-28T18:47:35.564562Z",
     "start_time": "2023-09-28T18:47:35.551727Z"
    }
   },
   "id": "c9a65660d6ba3db2"
  },
  {
   "cell_type": "markdown",
   "source": [
    "## Eg. Side Effect relating Eye"
   ],
   "metadata": {
    "collapsed": false
   },
   "id": "adffaa160d4d1a65"
  },
  {
   "cell_type": "code",
   "execution_count": 160,
   "outputs": [
    {
     "data": {
      "text/plain": "['H2521',\n 'H02209',\n 'C6991',\n 'H44012',\n 'H02869',\n 'H16331',\n 'H4301',\n 'H16139',\n 'T1580XS',\n 'H11112',\n 'H35441',\n 'H15039',\n 'H16142',\n 'H40212',\n 'T1590XD',\n 'E133521',\n 'H59019',\n 'H00015',\n 'D23122',\n 'E133552',\n 'T1511XD',\n 'H33111',\n 'H35359',\n 'H5440',\n 'T1511XS',\n 'T2621XS',\n 'H2011',\n 'H02823',\n 'T1502XS',\n 'H16119',\n 'H4053X4',\n 'H4610',\n 'H11232',\n 'H3322',\n 'H18022',\n 'H442D9',\n 'H16031',\n 'H348110',\n 'H59362',\n 'H26129',\n 'T1581XA',\n 'T868411',\n 'H01029',\n 'C43122',\n 'H25041',\n 'H4901',\n 'H40811',\n 'H16291',\n 'S00242S',\n 'H11032',\n 'H4052X3',\n 'S01141A',\n 'S01142S',\n 'H40152',\n 'H44812',\n 'H35362',\n 'H4031X0',\n 'E093212',\n 'H44441',\n 'B0239',\n 'H18002',\n 'C441291',\n 'H35461',\n 'E093591',\n 'H11132',\n 'H401114',\n 'H4031X2',\n 'H59022',\n 'H16432',\n 'H02856',\n 'H15019',\n 'H16011',\n 'H353293',\n 'S01151S',\n 'H59031',\n 'H26002',\n 'D03111',\n 'H10531',\n 'T2652XD',\n 'H02146',\n 'H59212',\n 'S00222S',\n 'H02886\\n',\n 'H05241',\n 'R402132',\n 'H18029',\n 'H18451',\n 'H47031',\n 'H16232',\n 'R402124',\n 'H02052',\n 'H16322',\n 'H44399',\n 'H35729',\n 'C6982',\n 'H01001',\n 'H25031',\n 'E093491',\n 'H52212',\n 'H18502',\n 'T2641XS',\n 'S058X1A',\n 'S0531XS',\n 'S00211A',\n 'C441092',\n 'T2661XD',\n 'H52532',\n 'D23112',\n 'H33122',\n 'C44112',\n 'E103311',\n 'H10509',\n 'H01133',\n 'H15821',\n 'H01022',\n 'S0551XD',\n 'H44642',\n 'H40151',\n 'S01101S',\n 'Q110',\n 'H02055',\n 'H02872',\n 'H21521',\n 'H02101',\n 'H4033X2',\n 'H211X9',\n 'H43819',\n 'H40832',\n 'H1032',\n 'H00035',\n 'E113212',\n 'H16021',\n 'R402112',\n 'H11241',\n 'H21359',\n 'H2510',\n 'H4912',\n 'C44102',\n 'H02861',\n 'D22122',\n 'H00025',\n 'H05419',\n 'H15841',\n 'H33332',\n 'H4302',\n 'H10431',\n 'H30899',\n 'H00024',\n 'H15049',\n 'H02871',\n 'H402210',\n 'E113542',\n 'H401411',\n 'H02153',\n 'E1037X9',\n 'H35069',\n 'H16149',\n 'H40839',\n 'T2600XS',\n 'H18541',\n 'S00201S',\n 'H353190',\n 'H47142',\n 'H59122',\n 'E093411',\n 'S0570XD',\n 'H26229',\n 'H02836',\n 'E103511',\n 'S00212A',\n 'H15831',\n 'H18792',\n 'H02839',\n 'H541142',\n 'H02536',\n 'H02835',\n 'T2631XS',\n 'D04111',\n 'H35371',\n 'E113211',\n 'H5202',\n 'H11039',\n 'H18462',\n 'H1031',\n 'H348391',\n 'H20029',\n 'H25011',\n 'C44192',\n 'T2631XA',\n 'H4611',\n 'C441192',\n 'H31401',\n 'H40011',\n 'H26031',\n 'H44129',\n 'H4040X1',\n 'H16049',\n 'H44822',\n 'E093219',\n 'H21352',\n 'E133491',\n 'E083599',\n 'H18329',\n 'H3561',\n 'H401212',\n 'S01112S',\n 'S00261A',\n 'E103392',\n 'E133492',\n 'H02125',\n 'H33191',\n 'T2680XS',\n 'H43312',\n 'H15012',\n 'H4032X2',\n 'H40829',\n 'S00221A',\n 'H26101',\n 'H11031',\n 'H18712',\n 'Q1389',\n 'H4053X2',\n 'T1501XS',\n 'T2620XA',\n 'E103499',\n 'S04011S',\n 'T85311A',\n 'E093412',\n 'Q148',\n 'H18032',\n 'H02131',\n 'H02731',\n 'H18539',\n 'H11811',\n 'H35162',\n 'E133211',\n 'H540X55',\n 'H10011',\n 'H15042',\n 'H31419',\n 'H5989',\n 'H21529',\n 'H02714',\n 'H1710',\n 'H5789',\n 'H50611',\n 'E083551',\n 'H348311',\n 'H35739',\n 'H10821',\n 'H50311',\n 'H27112',\n 'S00279A',\n 'H01149',\n 'H5120',\n 'T868491',\n 'H53411',\n 'H01011',\n 'H4043X0',\n 'H31009',\n 'H5711',\n 'H01114',\n 'S0010XS',\n 'H35361',\n 'H31109',\n 'H20819',\n 'H02044',\n 'H53129',\n 'E133531',\n 'H16409',\n 'T2602XA',\n 'H02734',\n 'H53042',\n 'H40029',\n 'H02106',\n 'T2681XS',\n 'H52221',\n 'E103551',\n 'H348392',\n 'H44701',\n 'H33331',\n 'C44119',\n 'S00249D',\n 'T2672XD',\n 'H31301',\n 'H01116',\n 'H16442',\n 'H40819',\n 'H16022',\n 'E113529',\n 'H40231',\n 'H35712',\n 'H0013',\n 'H59029',\n 'C441121',\n 'E103549',\n 'S0522XS',\n 'H47091',\n 'H2512',\n 'H18791',\n 'H15832',\n 'H35721',\n 'S01159D',\n 'S0561XS',\n 'A1859',\n 'H16211',\n 'S00252S',\n 'H401422',\n 'H348120',\n 'H35372',\n 'H44749',\n 'H18831',\n 'H11021',\n 'H44029',\n 'H27132',\n 'C44122',\n 'H401214',\n 'S058X1D',\n 'H26051',\n 'H4041X2',\n 'H33012',\n 'H16422',\n 'H35072',\n 'H44439',\n 'H00032',\n 'D2211',\n 'S00272S',\n 'S01129D',\n 'T868492',\n 'D23121',\n 'E113319',\n 'C441191',\n 'H35152',\n 'H02712',\n 'S01152A',\n 'H52222',\n 'H02032',\n 'H25019',\n 'H1012',\n 'H40219',\n 'H26012',\n 'T2642XA',\n 'H43391',\n 'H54415A',\n 'H11001',\n 'S0542XS',\n 'H0014',\n 'E103319',\n 'H02102',\n 'H33109',\n 'H02865',\n 'E103391',\n 'T2652XA',\n 'D2310',\n 'H26061',\n 'H21311',\n 'H01013',\n 'H15099',\n 'H33102',\n 'H401221',\n 'H47312',\n 'H53489',\n 'T1510XA',\n 'H30122',\n 'S0572XS',\n 'S0560XS',\n 'E083549',\n 'H40019',\n 'S01129S',\n 'H59119',\n 'H02722',\n 'H4030X3',\n 'S01119S',\n 'H02136',\n 'H11131',\n 'R402143',\n 'H02216',\n 'H402224',\n 'T2660XA',\n 'H02114',\n 'H4050X0',\n 'D3191',\n 'H49889',\n 'H05211',\n 'H3321',\n 'H02212',\n 'H31122',\n 'T85320A',\n 'E1137X1',\n 'H26139',\n 'H540X53',\n 'H02005',\n 'H4030X0',\n 'T1501XA',\n 'H02429',\n 'H02439',\n 'R402133',\n 'H30812',\n 'H02141',\n 'E083291',\n 'H31312',\n 'H35422',\n 'H47099',\n 'H02154',\n 'H348191',\n 'H50612',\n 'H35469',\n 'T1581XS',\n 'E093519',\n 'H2142',\n 'H40031',\n 'T2660XD',\n 'H401194',\n 'H4311',\n 'H16391',\n 'H3320',\n 'H59211',\n 'B691',\n 'H59012',\n 'H02006',\n 'H59319',\n 'H50411',\n 'H401292',\n 'E083499',\n 'H11023',\n 'H4941',\n 'H16071',\n 'T2662XA',\n 'H18591',\n 'H33049',\n 'H59219',\n 'E103529',\n 'E093419',\n 'S00269A',\n 'H04122',\n 'S0522XA',\n 'H44442',\n 'H11059',\n 'H348390',\n 'H02831',\n 'H26102',\n 'H02011',\n 'H18531',\n 'H16121',\n 'H348310',\n 'H31121',\n 'H35459',\n 'H18592',\n 'H401320',\n 'T2671XS',\n 'H44641',\n 'S0012XS',\n 'H02123',\n 'H17812',\n 'H59311',\n 'T2692XS',\n 'H00036',\n 'C44121',\n 'H02031',\n 'H401293',\n 'H16321',\n 'T85391D',\n 'H02026',\n 'H15811',\n 'E113552',\n 'H18442',\n 'H401222',\n 'H02013',\n 'S04012A',\n 'H18829',\n 'H31001',\n 'H4911',\n 'H44412',\n 'H59011',\n 'S0532XA',\n 'H401290',\n 'T1500XA',\n 'S01152S',\n 'H44759',\n 'D22121',\n 'E113531',\n 'H4050X4',\n 'H49881',\n 'S01131S',\n 'H3410',\n 'H21339',\n 'H15129',\n 'H33112',\n 'C44191',\n 'E103539',\n 'H3521',\n 'H44632',\n 'H442D3',\n 'S0501XA',\n 'H00029',\n 'H4310',\n 'H02863',\n 'H00011',\n 'H5451',\n 'H59361',\n 'H401193',\n 'E083411',\n 'E093292',\n 'S0541XA',\n 'H35071',\n 'E1037X1',\n 'E083292',\n 'T2641XA',\n 'H30001',\n 'H01124',\n 'S0560XD',\n 'H05261',\n 'H21241',\n 'H401410',\n 'H44319',\n 'H3401',\n 'H33322',\n 'H18892',\n 'H20051',\n 'H402220',\n 'E113399',\n 'E113311',\n 'E103399',\n 'E113411',\n 'H542X21',\n 'E10351',\n 'H02523',\n 'S00262D',\n 'E113299',\n 'S04011D',\n 'H15102',\n 'H30129',\n 'H5200',\n 'H33002',\n 'H30102',\n 'H541214',\n 'H1810',\n 'E083532',\n 'H02215',\n 'H11212',\n 'H16231',\n 'H01016',\n 'H26032',\n 'H35142',\n 'B0059',\n 'H4050X3',\n 'H353112',\n 'H21551',\n 'H5442A5',\n 'S0562XD',\n 'E103532',\n 'H54512A',\n 'D0411',\n 'H20042',\n 'H4061X3',\n 'H442E3',\n 'T2601XS',\n 'T2650XD',\n 'S0520XA',\n 'H35052',\n 'H35122',\n 'H18899',\n 'R402123',\n 'H33312',\n 'H02852',\n 'H26419',\n 'H44692',\n 'H53421',\n 'R94118',\n 'H02045',\n 'H47291',\n 'T2680XD',\n 'H33192',\n 'H01141',\n 'S0550XD',\n 'H02422',\n 'H353210',\n 'H01122',\n 'S0540XA',\n 'H47032',\n 'H02235',\n 'E113521',\n 'H50112',\n 'H401424',\n 'R402134',\n 'H02403',\n 'H30109',\n 'H44531',\n 'T2691XS',\n 'H02124',\n 'H579',\n 'H4920',\n 'C4A121',\n 'T85310A',\n 'S00269D',\n 'H33001',\n 'T1510XD',\n 'H10529',\n 'H02419',\n 'H30041',\n 'H21542',\n 'H05411',\n 'H59332',\n 'H442E9',\n 'T1591XD',\n 'S0562XA',\n 'H47211',\n 'H4062X1',\n 'H04129',\n 'H02815',\n 'H40242',\n 'S0510XA',\n 'S0511XD',\n 'H2101',\n 'H33022',\n 'S0501XS',\n 'H02223',\n 'T2620XD',\n 'H53431',\n 'H11411',\n 'H15091',\n 'S0502XD',\n 'C441392',\n 'H4042X3',\n 'H540X45',\n 'H53022',\n 'D04112',\n 'H44819',\n 'H541225',\n 'H44651',\n 'H35101',\n 'H59819',\n 'H18039',\n 'H211X2',\n 'H02201',\n 'H30132',\n 'B7309',\n 'T2690XS',\n 'E133399',\n 'H11012',\n 'H02139',\n 'T868482',\n 'S00249S',\n 'H40049',\n 'H401220',\n 'H02732',\n 'T2662XD',\n 'H18332',\n 'H11002',\n 'H11429',\n 'H401314',\n 'T2681XA',\n 'T2682XS',\n 'H442A1',\n 'H21569',\n 'H44423',\n 'H3560',\n 'H4061X2',\n 'H40822',\n 'H47011',\n 'H02421',\n 'H18312',\n 'H02411',\n 'H10412',\n 'H59121',\n 'H02049',\n 'H44421',\n 'E083319',\n 'H442B1',\n 'H0263',\n 'H35119',\n 'H50021',\n 'H0011',\n 'H18042',\n 'H442C3',\n 'H4051X1',\n 'H401494',\n 'H11042',\n 'H59812',\n 'H11129',\n 'H02846',\n 'H10411',\n 'H4932',\n 'H31021',\n 'H353123',\n 'H30031',\n 'H3411',\n 'E113592',\n 'H5022',\n 'H1812',\n 'C44129',\n 'H30121',\n 'H47292',\n 'E113599',\n 'S00272A',\n 'S00262S',\n 'H11159',\n 'H35079',\n 'H35022',\n 'H40021',\n 'S01111A',\n 'H4942',\n 'H44323',\n 'H0231',\n 'H04123',\n 'H348192',\n 'H353113',\n 'S00271D',\n 'H4061X1',\n 'H30029',\n 'H11442',\n 'H11149',\n 'H44311',\n 'H02539',\n 'H35179',\n 'H35722',\n 'H43822',\n 'D03122',\n 'S01151D',\n 'H35429',\n 'H4931',\n 'H47149',\n 'T2632XD',\n 'H353291',\n 'S0551XS',\n 'D0311',\n 'H542X11',\n 'H44422',\n 'H35141',\n 'H26112',\n 'H2020',\n 'S0561XA',\n 'H401223',\n 'H5460',\n 'H16421',\n 'H02525',\n 'E133512',\n 'H44691',\n 'H02119',\n 'E083552',\n 'H05242',\n 'H44722',\n 'H25039',\n 'H30112',\n 'H4042X0',\n 'H10811',\n 'T2692XD',\n 'H15851',\n 'H31019',\n 'H16042',\n 'H59039',\n 'H30039',\n 'H44622',\n 'H30042',\n 'H02725',\n 'H15842',\n 'E133599',\n 'E093312',\n 'E133212',\n 'H11432',\n 'S00241S',\n 'H353292',\n 'H0223C',\n 'H47399',\n 'C44111',\n 'H18452',\n 'H353213',\n 'H34822',\n 'H31101',\n 'H401112',\n 'C441122',\n 'H47019',\n 'H16449',\n 'E103411',\n 'H4040X3',\n 'S0500XS',\n 'H15111',\n 'S00279D',\n 'H02151',\n 'T1582XA',\n 'T2600XD',\n 'H348321',\n 'H541224',\n 'H53019',\n 'H4421',\n 'H11069',\n 'H53482',\n 'H01021',\n 'H16059',\n 'S00209A',\n 'H353222',\n 'C6980',\n 'H53142',\n 'T2611XD',\n 'H21279',\n 'H53451',\n 'H20012',\n 'H05262',\n 'S00219D',\n 'E103212',\n 'H401413',\n 'H40211',\n 'S00249A',\n 'H02514',\n 'T2662XS',\n 'H4050X1',\n 'H16411',\n 'T2671XA',\n 'H30032',\n 'H4060X1',\n 'H18832',\n 'H00013',\n 'H33321',\n 'H02041',\n 'H44022',\n 'H49812',\n 'H02816',\n 'H16052',\n 'T2611XA',\n 'H541213',\n 'H5121',\n 'H02412',\n 'T2670XD',\n 'S00259S',\n 'H5450',\n 'S00241A',\n 'D2312',\n 'H17811',\n 'H40012',\n 'H47329',\n 'H01123',\n 'H43829',\n 'H11821',\n 'H0265',\n 'H16251',\n 'R402130',\n 'H4062X4',\n 'H4041X1',\n 'H34839',\n 'H16131',\n 'H35341',\n 'H18812',\n 'H543',\n 'H01119',\n 'H31411',\n 'T2610XD',\n 'H402294',\n 'H18449',\n 'H5211',\n 'H4040X4',\n 'H0234',\n 'H401121',\n 'H16309',\n 'H00034',\n 'T1581XD',\n 'H02012',\n 'H00012',\n 'H44432',\n 'H44411',\n 'H21242',\n 'H401412',\n 'H401492',\n 'H52229',\n 'H40051',\n 'H00039',\n 'R402144',\n 'H18629',\n 'T85390D',\n 'E083392',\n 'H44829',\n 'H541223',\n 'H16261',\n 'H05252',\n 'H33009',\n 'H53002',\n 'H18719',\n 'H10439',\n 'D0920',\n 'H52511',\n 'H0223A',\n 'H11231',\n 'H402290',\n 'H59099',\n 'H0259',\n 'T1592XS',\n 'H0012',\n 'H442C9',\n 'H01139',\n 'H34831',\n 'H44742',\n 'C441292',\n 'E133532',\n 'H02029',\n 'S04011A',\n 'H18822',\n 'H02224',\n 'H4322',\n 'H31111',\n 'H59129',\n 'H18619',\n 'H01131',\n 'H4031X1',\n 'T1590XS',\n 'H16212',\n 'E103541',\n 'H10232',\n 'H26039',\n 'H20031',\n 'H33032',\n 'H18519',\n 'H18052',\n 'H33129',\n 'H31029',\n 'H4052X4',\n 'H40812',\n 'H44611',\n 'H05401',\n 'S0530XS',\n 'H018',\n 'T2630XA',\n 'H33101',\n 'H18501',\n 'H02851',\n 'S0550XS',\n 'E133529',\n 'H16399',\n 'H4921',\n 'H15059',\n 'E133299',\n 'H11052',\n 'H16429',\n 'H15002',\n 'H4033X4',\n 'H52209',\n 'H16072',\n 'H53439',\n 'S0550XA',\n 'H10222',\n 'H35031',\n 'H4061X0',\n 'H59223',\n 'H02112',\n 'H11421',\n 'H1711',\n 'H02841',\n 'H18231',\n 'H35132',\n 'S00279S',\n 'C4311',\n 'T85310S',\n 'T1582XS',\n 'H01112',\n 'S0541XD',\n 'H5582',\n 'H3402',\n 'H26069',\n 'H401311',\n 'H43811',\n 'H01004',\n 'H17821',\n 'T2600XA',\n 'H52519',\n 'H21322',\n 'H21341',\n 'H47021',\n 'S0592XD',\n 'H40039',\n 'H59359',\n 'H02401',\n 'H540X43',\n 'H00023',\n 'H18419',\n 'H47322',\n 'H34819',\n 'H44132',\n 'H02134',\n 'S00241D',\n 'H02132',\n 'H05429',\n 'H401313',\n 'H00021',\n 'H44121',\n 'H44112',\n 'H10421',\n 'E1037X2',\n 'D0312',\n 'E0837X2',\n 'H16252',\n 'H44601',\n 'H0019',\n 'H02825',\n 'H401491',\n 'H16112',\n 'H0220C',\n 'H53131',\n 'S0012XA',\n 'H02859',\n 'S0012XD',\n 'H348122',\n 'H15822',\n ...]"
     },
     "execution_count": 160,
     "metadata": {},
     "output_type": "execute_result"
    }
   ],
   "source": [
    "sf_codes['Eye']"
   ],
   "metadata": {
    "collapsed": false,
    "ExecuteTime": {
     "end_time": "2023-09-28T18:47:36.471444Z",
     "start_time": "2023-09-28T18:47:36.467715Z"
    }
   },
   "id": "8cf2833e02734ae4"
  },
  {
   "cell_type": "markdown",
   "source": [
    "There are 2 ways to count eye (the side effect considered) related codes per person\n",
    "1. Count the number of codes related to the side effect in a person's medical record. (hereafter called 'countall')\n",
    "2. Count the number of unique codes related to the side effect in a person's medical record. (hereafter called 'countuniq')"
   ],
   "metadata": {
    "collapsed": false
   },
   "id": "eebb1331e5296683"
  },
  {
   "cell_type": "markdown",
   "source": [
    "### 1. Countall"
   ],
   "metadata": {
    "collapsed": false
   },
   "id": "1b7ae2c780ecd847"
  },
  {
   "cell_type": "code",
   "execution_count": 163,
   "outputs": [
    {
     "data": {
      "text/plain": "               therapy_id  eye_pd_count_all\n0   1000867560-TAGRISSO-1                 5\n1   1004400309-TAGRISSO-1                18\n2   1005182640-TAGRISSO-1                 8\n3   1005693365-TAGRISSO-1                 4\n4   1005964858-TAGRISSO-1                 3\n..                    ...               ...\n70  1116339224-TAGRISSO-1                 1\n71  1118113212-TAGRISSO-1                 7\n72  1118371981-TAGRISSO-1                 2\n73  1118630665-TAGRISSO-1                 3\n74  1121951424-TAGRISSO-1                 2\n\n[75 rows x 2 columns]",
      "text/html": "<div>\n<style scoped>\n    .dataframe tbody tr th:only-of-type {\n        vertical-align: middle;\n    }\n\n    .dataframe tbody tr th {\n        vertical-align: top;\n    }\n\n    .dataframe thead th {\n        text-align: right;\n    }\n</style>\n<table border=\"1\" class=\"dataframe\">\n  <thead>\n    <tr style=\"text-align: right;\">\n      <th></th>\n      <th>therapy_id</th>\n      <th>eye_pd_count_all</th>\n    </tr>\n  </thead>\n  <tbody>\n    <tr>\n      <th>0</th>\n      <td>1000867560-TAGRISSO-1</td>\n      <td>5</td>\n    </tr>\n    <tr>\n      <th>1</th>\n      <td>1004400309-TAGRISSO-1</td>\n      <td>18</td>\n    </tr>\n    <tr>\n      <th>2</th>\n      <td>1005182640-TAGRISSO-1</td>\n      <td>8</td>\n    </tr>\n    <tr>\n      <th>3</th>\n      <td>1005693365-TAGRISSO-1</td>\n      <td>4</td>\n    </tr>\n    <tr>\n      <th>4</th>\n      <td>1005964858-TAGRISSO-1</td>\n      <td>3</td>\n    </tr>\n    <tr>\n      <th>...</th>\n      <td>...</td>\n      <td>...</td>\n    </tr>\n    <tr>\n      <th>70</th>\n      <td>1116339224-TAGRISSO-1</td>\n      <td>1</td>\n    </tr>\n    <tr>\n      <th>71</th>\n      <td>1118113212-TAGRISSO-1</td>\n      <td>7</td>\n    </tr>\n    <tr>\n      <th>72</th>\n      <td>1118371981-TAGRISSO-1</td>\n      <td>2</td>\n    </tr>\n    <tr>\n      <th>73</th>\n      <td>1118630665-TAGRISSO-1</td>\n      <td>3</td>\n    </tr>\n    <tr>\n      <th>74</th>\n      <td>1121951424-TAGRISSO-1</td>\n      <td>2</td>\n    </tr>\n  </tbody>\n</table>\n<p>75 rows × 2 columns</p>\n</div>"
     },
     "execution_count": 163,
     "metadata": {},
     "output_type": "execute_result"
    }
   ],
   "source": [
    "# eg.\n",
    "## for primary_diag\n",
    "### for eye\n",
    "countall = medclms[medclms.primary_diag_cd.isin(sf_codes['Eye'])].groupby('therapy_id').primary_diag_cd.count().reset_index()\n",
    "countall.columns = ['therapy_id', 'eye_pd_count_all']\n",
    "countall"
   ],
   "metadata": {
    "collapsed": false,
    "ExecuteTime": {
     "end_time": "2023-09-28T18:47:52.055409Z",
     "start_time": "2023-09-28T18:47:52.046128Z"
    }
   },
   "id": "2bce65522e72807a"
  },
  {
   "cell_type": "markdown",
   "source": [
    "#### For all side effects"
   ],
   "metadata": {
    "collapsed": false
   },
   "id": "531b0274dc75d642"
  },
  {
   "cell_type": "code",
   "execution_count": 167,
   "outputs": [],
   "source": [
    "## for primary_diag\n",
    "### All side effects\n",
    "df_list = []\n",
    "for side_effect in sf_codes.keys():\n",
    "    countall = medclms[medclms.primary_diag_cd.isin(sf_codes[side_effect])].groupby('therapy_id').primary_diag_cd.count().reset_index()\n",
    "    countall.columns = ['therapy_id', f'{side_effect.lower()}_pd_count_all']\n",
    "    countall = countall.set_index('therapy_id')\n",
    "    df_list.append(countall)\n",
    "pd_count_all_df = df_list[0].join(df_list[1:], how='outer')"
   ],
   "metadata": {
    "collapsed": false,
    "ExecuteTime": {
     "end_time": "2023-09-28T18:49:22.384570Z",
     "start_time": "2023-09-28T18:49:22.353491Z"
    }
   },
   "id": "3653ea915d07555e"
  },
  {
   "cell_type": "code",
   "execution_count": 168,
   "outputs": [
    {
     "data": {
      "text/plain": "                       diarrhea_pd_count_all  eye_pd_count_all  \\\ntherapy_id                                                       \n1008520415-TAGRISSO-1                    1.0              46.0   \n1011089073-TAGRISSO-1                    3.0               NaN   \n1013219968-TAGRISSO-1                   10.0               NaN   \n1016103876-TAGRISSO-1                    6.0               NaN   \n1016891647-TAGRISSO-1                   17.0               NaN   \n...                                      ...               ...   \n1013495938-TAGRISSO-1                    NaN               NaN   \n1016166941-TAGRISSO-1                    NaN               NaN   \n1054868180-TAGRISSO-1                    NaN               NaN   \n1078555806-TAGRISSO-1                    NaN               NaN   \n1110384938-TAGRISSO-1                    NaN               NaN   \n\n                       infection_pd_count_all  nail_pd_count_all  \\\ntherapy_id                                                         \n1008520415-TAGRISSO-1                     NaN                NaN   \n1011089073-TAGRISSO-1                     NaN                NaN   \n1013219968-TAGRISSO-1                     NaN                NaN   \n1016103876-TAGRISSO-1                     NaN                NaN   \n1016891647-TAGRISSO-1                     NaN                NaN   \n...                                       ...                ...   \n1013495938-TAGRISSO-1                     NaN                NaN   \n1016166941-TAGRISSO-1                     NaN                NaN   \n1054868180-TAGRISSO-1                     NaN                NaN   \n1078555806-TAGRISSO-1                     NaN                NaN   \n1110384938-TAGRISSO-1                     NaN                NaN   \n\n                       neutropenia_pd_count_all  qt_pd_count_all  \\\ntherapy_id                                                         \n1008520415-TAGRISSO-1                       NaN              NaN   \n1011089073-TAGRISSO-1                       NaN              NaN   \n1013219968-TAGRISSO-1                       NaN              NaN   \n1016103876-TAGRISSO-1                       NaN              NaN   \n1016891647-TAGRISSO-1                       NaN              NaN   \n...                                         ...              ...   \n1013495938-TAGRISSO-1                       NaN              NaN   \n1016166941-TAGRISSO-1                       NaN              NaN   \n1054868180-TAGRISSO-1                       NaN              NaN   \n1078555806-TAGRISSO-1                       NaN              NaN   \n1110384938-TAGRISSO-1                       NaN              NaN   \n\n                       skin_pd_count_all  stomatitis_pd_count_all  \\\ntherapy_id                                                          \n1008520415-TAGRISSO-1                NaN                      NaN   \n1011089073-TAGRISSO-1                3.0                      NaN   \n1013219968-TAGRISSO-1                NaN                      NaN   \n1016103876-TAGRISSO-1                NaN                      NaN   \n1016891647-TAGRISSO-1                NaN                      NaN   \n...                                  ...                      ...   \n1013495938-TAGRISSO-1                NaN                      NaN   \n1016166941-TAGRISSO-1                NaN                      NaN   \n1054868180-TAGRISSO-1                NaN                      NaN   \n1078555806-TAGRISSO-1                NaN                      NaN   \n1110384938-TAGRISSO-1                NaN                      NaN   \n\n                       thrombocytopenia_pd_count_all  \ntherapy_id                                            \n1008520415-TAGRISSO-1                            NaN  \n1011089073-TAGRISSO-1                            NaN  \n1013219968-TAGRISSO-1                            NaN  \n1016103876-TAGRISSO-1                            NaN  \n1016891647-TAGRISSO-1                            NaN  \n...                                              ...  \n1013495938-TAGRISSO-1                            1.0  \n1016166941-TAGRISSO-1                            2.0  \n1054868180-TAGRISSO-1                            3.0  \n1078555806-TAGRISSO-1                           35.0  \n1110384938-TAGRISSO-1                           30.0  \n\n[196 rows x 9 columns]",
      "text/html": "<div>\n<style scoped>\n    .dataframe tbody tr th:only-of-type {\n        vertical-align: middle;\n    }\n\n    .dataframe tbody tr th {\n        vertical-align: top;\n    }\n\n    .dataframe thead th {\n        text-align: right;\n    }\n</style>\n<table border=\"1\" class=\"dataframe\">\n  <thead>\n    <tr style=\"text-align: right;\">\n      <th></th>\n      <th>diarrhea_pd_count_all</th>\n      <th>eye_pd_count_all</th>\n      <th>infection_pd_count_all</th>\n      <th>nail_pd_count_all</th>\n      <th>neutropenia_pd_count_all</th>\n      <th>qt_pd_count_all</th>\n      <th>skin_pd_count_all</th>\n      <th>stomatitis_pd_count_all</th>\n      <th>thrombocytopenia_pd_count_all</th>\n    </tr>\n    <tr>\n      <th>therapy_id</th>\n      <th></th>\n      <th></th>\n      <th></th>\n      <th></th>\n      <th></th>\n      <th></th>\n      <th></th>\n      <th></th>\n      <th></th>\n    </tr>\n  </thead>\n  <tbody>\n    <tr>\n      <th>1008520415-TAGRISSO-1</th>\n      <td>1.0</td>\n      <td>46.0</td>\n      <td>NaN</td>\n      <td>NaN</td>\n      <td>NaN</td>\n      <td>NaN</td>\n      <td>NaN</td>\n      <td>NaN</td>\n      <td>NaN</td>\n    </tr>\n    <tr>\n      <th>1011089073-TAGRISSO-1</th>\n      <td>3.0</td>\n      <td>NaN</td>\n      <td>NaN</td>\n      <td>NaN</td>\n      <td>NaN</td>\n      <td>NaN</td>\n      <td>3.0</td>\n      <td>NaN</td>\n      <td>NaN</td>\n    </tr>\n    <tr>\n      <th>1013219968-TAGRISSO-1</th>\n      <td>10.0</td>\n      <td>NaN</td>\n      <td>NaN</td>\n      <td>NaN</td>\n      <td>NaN</td>\n      <td>NaN</td>\n      <td>NaN</td>\n      <td>NaN</td>\n      <td>NaN</td>\n    </tr>\n    <tr>\n      <th>1016103876-TAGRISSO-1</th>\n      <td>6.0</td>\n      <td>NaN</td>\n      <td>NaN</td>\n      <td>NaN</td>\n      <td>NaN</td>\n      <td>NaN</td>\n      <td>NaN</td>\n      <td>NaN</td>\n      <td>NaN</td>\n    </tr>\n    <tr>\n      <th>1016891647-TAGRISSO-1</th>\n      <td>17.0</td>\n      <td>NaN</td>\n      <td>NaN</td>\n      <td>NaN</td>\n      <td>NaN</td>\n      <td>NaN</td>\n      <td>NaN</td>\n      <td>NaN</td>\n      <td>NaN</td>\n    </tr>\n    <tr>\n      <th>...</th>\n      <td>...</td>\n      <td>...</td>\n      <td>...</td>\n      <td>...</td>\n      <td>...</td>\n      <td>...</td>\n      <td>...</td>\n      <td>...</td>\n      <td>...</td>\n    </tr>\n    <tr>\n      <th>1013495938-TAGRISSO-1</th>\n      <td>NaN</td>\n      <td>NaN</td>\n      <td>NaN</td>\n      <td>NaN</td>\n      <td>NaN</td>\n      <td>NaN</td>\n      <td>NaN</td>\n      <td>NaN</td>\n      <td>1.0</td>\n    </tr>\n    <tr>\n      <th>1016166941-TAGRISSO-1</th>\n      <td>NaN</td>\n      <td>NaN</td>\n      <td>NaN</td>\n      <td>NaN</td>\n      <td>NaN</td>\n      <td>NaN</td>\n      <td>NaN</td>\n      <td>NaN</td>\n      <td>2.0</td>\n    </tr>\n    <tr>\n      <th>1054868180-TAGRISSO-1</th>\n      <td>NaN</td>\n      <td>NaN</td>\n      <td>NaN</td>\n      <td>NaN</td>\n      <td>NaN</td>\n      <td>NaN</td>\n      <td>NaN</td>\n      <td>NaN</td>\n      <td>3.0</td>\n    </tr>\n    <tr>\n      <th>1078555806-TAGRISSO-1</th>\n      <td>NaN</td>\n      <td>NaN</td>\n      <td>NaN</td>\n      <td>NaN</td>\n      <td>NaN</td>\n      <td>NaN</td>\n      <td>NaN</td>\n      <td>NaN</td>\n      <td>35.0</td>\n    </tr>\n    <tr>\n      <th>1110384938-TAGRISSO-1</th>\n      <td>NaN</td>\n      <td>NaN</td>\n      <td>NaN</td>\n      <td>NaN</td>\n      <td>NaN</td>\n      <td>NaN</td>\n      <td>NaN</td>\n      <td>NaN</td>\n      <td>30.0</td>\n    </tr>\n  </tbody>\n</table>\n<p>196 rows × 9 columns</p>\n</div>"
     },
     "execution_count": 168,
     "metadata": {},
     "output_type": "execute_result"
    }
   ],
   "source": [
    "pd_count_all_df"
   ],
   "metadata": {
    "collapsed": false,
    "ExecuteTime": {
     "end_time": "2023-09-28T18:49:23.166634Z",
     "start_time": "2023-09-28T18:49:23.159375Z"
    }
   },
   "id": "17af7344c1c916e5"
  },
  {
   "cell_type": "code",
   "execution_count": 169,
   "outputs": [],
   "source": [
    "## for all sec diag\n",
    "### All side effects\n",
    "df_list = []\n",
    "for side_effect in sf_codes.keys():\n",
    "    df_list_ = []\n",
    "    for diag_col in diag_cols[1:]: \n",
    "        countall = medclms[medclms[diag_col].isin(sf_codes[side_effect])].groupby('therapy_id')[diag_col].count().reset_index()\n",
    "        countall.columns = ['therapy_id', f'{side_effect.lower()}_{diag_col}_count_all']\n",
    "        countall = countall.set_index('therapy_id')\n",
    "        df_list_.append(countall)\n",
    "    df_ = pd.DataFrame(df_list_[0].join(df_list_[1:], how='outer').sum(axis=1)).reset_index()\n",
    "    df_.columns =['therapy_id', f'{side_effect.lower()}_sd_count_all']\n",
    "    df_ = df_.set_index('therapy_id')\n",
    "    df_list.append(df_)\n",
    "sd_count_all_df = df_list[0].join(df_list[1:], how='outer')"
   ],
   "metadata": {
    "collapsed": false,
    "ExecuteTime": {
     "end_time": "2023-09-28T18:49:39.743091Z",
     "start_time": "2023-09-28T18:49:39.472920Z"
    }
   },
   "id": "6db3a3488d4f22a7"
  },
  {
   "cell_type": "code",
   "execution_count": 170,
   "outputs": [
    {
     "data": {
      "text/plain": "                       diarrhea_sd_count_all  eye_sd_count_all  \\\ntherapy_id                                                       \n1010187115-TAGRISSO-1                    2.0               8.0   \n1010393275-TAGRISSO-1                    3.0               NaN   \n1013219968-TAGRISSO-1                    5.0               NaN   \n1016783257-TAGRISSO-1                    8.0               NaN   \n1027867104-TAGRISSO-1                    3.0               NaN   \n...                                      ...               ...   \n1107106465-TAGRISSO-1                    NaN               NaN   \n1122173495-TAGRISSO-1                    NaN               NaN   \n1107373430-TAGRISSO-1                    NaN               NaN   \n1005964858-TAGRISSO-1                    NaN               NaN   \n1068446861-TAGRISSO-1                    NaN               NaN   \n\n                       infection_sd_count_all  nail_sd_count_all  \\\ntherapy_id                                                         \n1010187115-TAGRISSO-1                     NaN                NaN   \n1010393275-TAGRISSO-1                     NaN                NaN   \n1013219968-TAGRISSO-1                    20.0                NaN   \n1016783257-TAGRISSO-1                     NaN                NaN   \n1027867104-TAGRISSO-1                     NaN                NaN   \n...                                       ...                ...   \n1107106465-TAGRISSO-1                     NaN                NaN   \n1122173495-TAGRISSO-1                     NaN                NaN   \n1107373430-TAGRISSO-1                     NaN                NaN   \n1005964858-TAGRISSO-1                     NaN                NaN   \n1068446861-TAGRISSO-1                     NaN                NaN   \n\n                       neutropenia_sd_count_all  qt_sd_count_all  \\\ntherapy_id                                                         \n1010187115-TAGRISSO-1                       NaN              NaN   \n1010393275-TAGRISSO-1                       NaN              NaN   \n1013219968-TAGRISSO-1                       NaN              NaN   \n1016783257-TAGRISSO-1                       7.0              NaN   \n1027867104-TAGRISSO-1                       NaN              NaN   \n...                                         ...              ...   \n1107106465-TAGRISSO-1                       NaN              NaN   \n1122173495-TAGRISSO-1                       NaN              NaN   \n1107373430-TAGRISSO-1                       NaN              NaN   \n1005964858-TAGRISSO-1                       NaN              NaN   \n1068446861-TAGRISSO-1                       NaN              NaN   \n\n                       skin_sd_count_all  stomatitis_sd_count_all  \\\ntherapy_id                                                          \n1010187115-TAGRISSO-1                NaN                      NaN   \n1010393275-TAGRISSO-1                NaN                      NaN   \n1013219968-TAGRISSO-1                NaN                      NaN   \n1016783257-TAGRISSO-1               13.0                      4.0   \n1027867104-TAGRISSO-1                NaN                      NaN   \n...                                  ...                      ...   \n1107106465-TAGRISSO-1                NaN                      NaN   \n1122173495-TAGRISSO-1                NaN                      NaN   \n1107373430-TAGRISSO-1                NaN                      NaN   \n1005964858-TAGRISSO-1                NaN                      NaN   \n1068446861-TAGRISSO-1                NaN                      NaN   \n\n                       thrombocytopenia_sd_count_all  \ntherapy_id                                            \n1010187115-TAGRISSO-1                            NaN  \n1010393275-TAGRISSO-1                            NaN  \n1013219968-TAGRISSO-1                            NaN  \n1016783257-TAGRISSO-1                           15.0  \n1027867104-TAGRISSO-1                            NaN  \n...                                              ...  \n1107106465-TAGRISSO-1                            1.0  \n1122173495-TAGRISSO-1                            1.0  \n1107373430-TAGRISSO-1                           20.0  \n1005964858-TAGRISSO-1                           30.0  \n1068446861-TAGRISSO-1                            1.0  \n\n[336 rows x 9 columns]",
      "text/html": "<div>\n<style scoped>\n    .dataframe tbody tr th:only-of-type {\n        vertical-align: middle;\n    }\n\n    .dataframe tbody tr th {\n        vertical-align: top;\n    }\n\n    .dataframe thead th {\n        text-align: right;\n    }\n</style>\n<table border=\"1\" class=\"dataframe\">\n  <thead>\n    <tr style=\"text-align: right;\">\n      <th></th>\n      <th>diarrhea_sd_count_all</th>\n      <th>eye_sd_count_all</th>\n      <th>infection_sd_count_all</th>\n      <th>nail_sd_count_all</th>\n      <th>neutropenia_sd_count_all</th>\n      <th>qt_sd_count_all</th>\n      <th>skin_sd_count_all</th>\n      <th>stomatitis_sd_count_all</th>\n      <th>thrombocytopenia_sd_count_all</th>\n    </tr>\n    <tr>\n      <th>therapy_id</th>\n      <th></th>\n      <th></th>\n      <th></th>\n      <th></th>\n      <th></th>\n      <th></th>\n      <th></th>\n      <th></th>\n      <th></th>\n    </tr>\n  </thead>\n  <tbody>\n    <tr>\n      <th>1010187115-TAGRISSO-1</th>\n      <td>2.0</td>\n      <td>8.0</td>\n      <td>NaN</td>\n      <td>NaN</td>\n      <td>NaN</td>\n      <td>NaN</td>\n      <td>NaN</td>\n      <td>NaN</td>\n      <td>NaN</td>\n    </tr>\n    <tr>\n      <th>1010393275-TAGRISSO-1</th>\n      <td>3.0</td>\n      <td>NaN</td>\n      <td>NaN</td>\n      <td>NaN</td>\n      <td>NaN</td>\n      <td>NaN</td>\n      <td>NaN</td>\n      <td>NaN</td>\n      <td>NaN</td>\n    </tr>\n    <tr>\n      <th>1013219968-TAGRISSO-1</th>\n      <td>5.0</td>\n      <td>NaN</td>\n      <td>20.0</td>\n      <td>NaN</td>\n      <td>NaN</td>\n      <td>NaN</td>\n      <td>NaN</td>\n      <td>NaN</td>\n      <td>NaN</td>\n    </tr>\n    <tr>\n      <th>1016783257-TAGRISSO-1</th>\n      <td>8.0</td>\n      <td>NaN</td>\n      <td>NaN</td>\n      <td>NaN</td>\n      <td>7.0</td>\n      <td>NaN</td>\n      <td>13.0</td>\n      <td>4.0</td>\n      <td>15.0</td>\n    </tr>\n    <tr>\n      <th>1027867104-TAGRISSO-1</th>\n      <td>3.0</td>\n      <td>NaN</td>\n      <td>NaN</td>\n      <td>NaN</td>\n      <td>NaN</td>\n      <td>NaN</td>\n      <td>NaN</td>\n      <td>NaN</td>\n      <td>NaN</td>\n    </tr>\n    <tr>\n      <th>...</th>\n      <td>...</td>\n      <td>...</td>\n      <td>...</td>\n      <td>...</td>\n      <td>...</td>\n      <td>...</td>\n      <td>...</td>\n      <td>...</td>\n      <td>...</td>\n    </tr>\n    <tr>\n      <th>1107106465-TAGRISSO-1</th>\n      <td>NaN</td>\n      <td>NaN</td>\n      <td>NaN</td>\n      <td>NaN</td>\n      <td>NaN</td>\n      <td>NaN</td>\n      <td>NaN</td>\n      <td>NaN</td>\n      <td>1.0</td>\n    </tr>\n    <tr>\n      <th>1122173495-TAGRISSO-1</th>\n      <td>NaN</td>\n      <td>NaN</td>\n      <td>NaN</td>\n      <td>NaN</td>\n      <td>NaN</td>\n      <td>NaN</td>\n      <td>NaN</td>\n      <td>NaN</td>\n      <td>1.0</td>\n    </tr>\n    <tr>\n      <th>1107373430-TAGRISSO-1</th>\n      <td>NaN</td>\n      <td>NaN</td>\n      <td>NaN</td>\n      <td>NaN</td>\n      <td>NaN</td>\n      <td>NaN</td>\n      <td>NaN</td>\n      <td>NaN</td>\n      <td>20.0</td>\n    </tr>\n    <tr>\n      <th>1005964858-TAGRISSO-1</th>\n      <td>NaN</td>\n      <td>NaN</td>\n      <td>NaN</td>\n      <td>NaN</td>\n      <td>NaN</td>\n      <td>NaN</td>\n      <td>NaN</td>\n      <td>NaN</td>\n      <td>30.0</td>\n    </tr>\n    <tr>\n      <th>1068446861-TAGRISSO-1</th>\n      <td>NaN</td>\n      <td>NaN</td>\n      <td>NaN</td>\n      <td>NaN</td>\n      <td>NaN</td>\n      <td>NaN</td>\n      <td>NaN</td>\n      <td>NaN</td>\n      <td>1.0</td>\n    </tr>\n  </tbody>\n</table>\n<p>336 rows × 9 columns</p>\n</div>"
     },
     "execution_count": 170,
     "metadata": {},
     "output_type": "execute_result"
    }
   ],
   "source": [
    "sd_count_all_df"
   ],
   "metadata": {
    "collapsed": false,
    "ExecuteTime": {
     "end_time": "2023-09-28T18:49:45.809582Z",
     "start_time": "2023-09-28T18:49:45.802271Z"
    }
   },
   "id": "8a40c1e118c2ca7"
  },
  {
   "cell_type": "code",
   "execution_count": 175,
   "outputs": [
    {
     "name": "stdout",
     "output_type": "stream",
     "text": [
      "Index(['diarrhea_pd_count_all', 'eye_pd_count_all', 'infection_pd_count_all',\n",
      "       'nail_pd_count_all', 'neutropenia_pd_count_all', 'qt_pd_count_all',\n",
      "       'skin_pd_count_all', 'stomatitis_pd_count_all',\n",
      "       'thrombocytopenia_pd_count_all', 'diarrhea_sd_count_all',\n",
      "       'eye_sd_count_all', 'infection_sd_count_all', 'nail_sd_count_all',\n",
      "       'neutropenia_sd_count_all', 'qt_sd_count_all', 'skin_sd_count_all',\n",
      "       'stomatitis_sd_count_all', 'thrombocytopenia_sd_count_all'],\n",
      "      dtype='object')\n",
      "No of columns : 18\n",
      "No of rows    : 364\n"
     ]
    }
   ],
   "source": [
    "count_all_df = pd_count_all_df.join(sd_count_all_df, how='outer')\n",
    "print(count_all_df.columns)\n",
    "print(f'No of columns : {len(count_all_df.columns)}')\n",
    "print(f'No of rows    : {len(count_all_df)}')"
   ],
   "metadata": {
    "collapsed": false,
    "ExecuteTime": {
     "end_time": "2023-09-28T18:53:58.588146Z",
     "start_time": "2023-09-28T18:53:58.576778Z"
    }
   },
   "id": "fb9776a8d7268e35"
  },
  {
   "cell_type": "markdown",
   "source": [
    "### 2. Countuniq"
   ],
   "metadata": {
    "collapsed": false
   },
   "id": "6384cfefd57a982f"
  },
  {
   "cell_type": "code",
   "execution_count": 178,
   "outputs": [
    {
     "data": {
      "text/plain": "               therapy_id  eye_pd_count_unique\n0   1000867560-TAGRISSO-1                    1\n1   1004400309-TAGRISSO-1                    4\n2   1005182640-TAGRISSO-1                    2\n3   1005693365-TAGRISSO-1                    1\n4   1005964858-TAGRISSO-1                    1\n..                    ...                  ...\n70  1116339224-TAGRISSO-1                    1\n71  1118113212-TAGRISSO-1                    2\n72  1118371981-TAGRISSO-1                    1\n73  1118630665-TAGRISSO-1                    2\n74  1121951424-TAGRISSO-1                    1\n\n[75 rows x 2 columns]",
      "text/html": "<div>\n<style scoped>\n    .dataframe tbody tr th:only-of-type {\n        vertical-align: middle;\n    }\n\n    .dataframe tbody tr th {\n        vertical-align: top;\n    }\n\n    .dataframe thead th {\n        text-align: right;\n    }\n</style>\n<table border=\"1\" class=\"dataframe\">\n  <thead>\n    <tr style=\"text-align: right;\">\n      <th></th>\n      <th>therapy_id</th>\n      <th>eye_pd_count_unique</th>\n    </tr>\n  </thead>\n  <tbody>\n    <tr>\n      <th>0</th>\n      <td>1000867560-TAGRISSO-1</td>\n      <td>1</td>\n    </tr>\n    <tr>\n      <th>1</th>\n      <td>1004400309-TAGRISSO-1</td>\n      <td>4</td>\n    </tr>\n    <tr>\n      <th>2</th>\n      <td>1005182640-TAGRISSO-1</td>\n      <td>2</td>\n    </tr>\n    <tr>\n      <th>3</th>\n      <td>1005693365-TAGRISSO-1</td>\n      <td>1</td>\n    </tr>\n    <tr>\n      <th>4</th>\n      <td>1005964858-TAGRISSO-1</td>\n      <td>1</td>\n    </tr>\n    <tr>\n      <th>...</th>\n      <td>...</td>\n      <td>...</td>\n    </tr>\n    <tr>\n      <th>70</th>\n      <td>1116339224-TAGRISSO-1</td>\n      <td>1</td>\n    </tr>\n    <tr>\n      <th>71</th>\n      <td>1118113212-TAGRISSO-1</td>\n      <td>2</td>\n    </tr>\n    <tr>\n      <th>72</th>\n      <td>1118371981-TAGRISSO-1</td>\n      <td>1</td>\n    </tr>\n    <tr>\n      <th>73</th>\n      <td>1118630665-TAGRISSO-1</td>\n      <td>2</td>\n    </tr>\n    <tr>\n      <th>74</th>\n      <td>1121951424-TAGRISSO-1</td>\n      <td>1</td>\n    </tr>\n  </tbody>\n</table>\n<p>75 rows × 2 columns</p>\n</div>"
     },
     "execution_count": 178,
     "metadata": {},
     "output_type": "execute_result"
    }
   ],
   "source": [
    "# eg.\n",
    "## for primary_diag\n",
    "### for eye\n",
    "countuniq = medclms[medclms.primary_diag_cd.isin(sf_codes['Eye'])].groupby('therapy_id').primary_diag_cd.nunique().reset_index()\n",
    "countuniq.columns = ['therapy_id', 'eye_pd_count_unique']\n",
    "countuniq"
   ],
   "metadata": {
    "collapsed": false,
    "ExecuteTime": {
     "end_time": "2023-09-28T18:55:32.625200Z",
     "start_time": "2023-09-28T18:55:32.596149Z"
    }
   },
   "id": "6e162c686f0cf6dc"
  },
  {
   "cell_type": "markdown",
   "source": [
    "#### For all side effects"
   ],
   "metadata": {
    "collapsed": false
   },
   "id": "585504d439358fc4"
  },
  {
   "cell_type": "code",
   "execution_count": 180,
   "outputs": [],
   "source": [
    "## for primary_diag\n",
    "### All side effects\n",
    "df_list = []\n",
    "for side_effect in sf_codes.keys():\n",
    "    countall = medclms[medclms.primary_diag_cd.isin(sf_codes[side_effect])].groupby('therapy_id').primary_diag_cd.nunique().reset_index()\n",
    "    countall.columns = ['therapy_id', f'{side_effect.lower()}_pd_count_unique']\n",
    "    countall = countall.set_index('therapy_id')\n",
    "    df_list.append(countall)\n",
    "pd_count_unique_df  = df_list[0].join(df_list[1:], how='outer')"
   ],
   "metadata": {
    "collapsed": false,
    "ExecuteTime": {
     "end_time": "2023-09-28T18:56:38.838278Z",
     "start_time": "2023-09-28T18:56:38.790339Z"
    }
   },
   "id": "1527978b4c97abdf"
  },
  {
   "cell_type": "code",
   "execution_count": 181,
   "outputs": [
    {
     "data": {
      "text/plain": "                       diarrhea_pd_count_unique  eye_pd_count_unique  \\\ntherapy_id                                                             \n1008520415-TAGRISSO-1                       1.0                  1.0   \n1011089073-TAGRISSO-1                       2.0                  NaN   \n1013219968-TAGRISSO-1                       1.0                  NaN   \n1016103876-TAGRISSO-1                       1.0                  NaN   \n1016891647-TAGRISSO-1                       1.0                  NaN   \n...                                         ...                  ...   \n1013495938-TAGRISSO-1                       NaN                  NaN   \n1016166941-TAGRISSO-1                       NaN                  NaN   \n1054868180-TAGRISSO-1                       NaN                  NaN   \n1078555806-TAGRISSO-1                       NaN                  NaN   \n1110384938-TAGRISSO-1                       NaN                  NaN   \n\n                       infection_pd_count_unique  nail_pd_count_unique  \\\ntherapy_id                                                               \n1008520415-TAGRISSO-1                        NaN                   NaN   \n1011089073-TAGRISSO-1                        NaN                   NaN   \n1013219968-TAGRISSO-1                        NaN                   NaN   \n1016103876-TAGRISSO-1                        NaN                   NaN   \n1016891647-TAGRISSO-1                        NaN                   NaN   \n...                                          ...                   ...   \n1013495938-TAGRISSO-1                        NaN                   NaN   \n1016166941-TAGRISSO-1                        NaN                   NaN   \n1054868180-TAGRISSO-1                        NaN                   NaN   \n1078555806-TAGRISSO-1                        NaN                   NaN   \n1110384938-TAGRISSO-1                        NaN                   NaN   \n\n                       neutropenia_pd_count_unique  qt_pd_count_unique  \\\ntherapy_id                                                               \n1008520415-TAGRISSO-1                          NaN                 NaN   \n1011089073-TAGRISSO-1                          NaN                 NaN   \n1013219968-TAGRISSO-1                          NaN                 NaN   \n1016103876-TAGRISSO-1                          NaN                 NaN   \n1016891647-TAGRISSO-1                          NaN                 NaN   \n...                                            ...                 ...   \n1013495938-TAGRISSO-1                          NaN                 NaN   \n1016166941-TAGRISSO-1                          NaN                 NaN   \n1054868180-TAGRISSO-1                          NaN                 NaN   \n1078555806-TAGRISSO-1                          NaN                 NaN   \n1110384938-TAGRISSO-1                          NaN                 NaN   \n\n                       skin_pd_count_unique  stomatitis_pd_count_unique  \\\ntherapy_id                                                                \n1008520415-TAGRISSO-1                   NaN                         NaN   \n1011089073-TAGRISSO-1                   1.0                         NaN   \n1013219968-TAGRISSO-1                   NaN                         NaN   \n1016103876-TAGRISSO-1                   NaN                         NaN   \n1016891647-TAGRISSO-1                   NaN                         NaN   \n...                                     ...                         ...   \n1013495938-TAGRISSO-1                   NaN                         NaN   \n1016166941-TAGRISSO-1                   NaN                         NaN   \n1054868180-TAGRISSO-1                   NaN                         NaN   \n1078555806-TAGRISSO-1                   NaN                         NaN   \n1110384938-TAGRISSO-1                   NaN                         NaN   \n\n                       thrombocytopenia_pd_count_unique  \ntherapy_id                                               \n1008520415-TAGRISSO-1                               NaN  \n1011089073-TAGRISSO-1                               NaN  \n1013219968-TAGRISSO-1                               NaN  \n1016103876-TAGRISSO-1                               NaN  \n1016891647-TAGRISSO-1                               NaN  \n...                                                 ...  \n1013495938-TAGRISSO-1                               1.0  \n1016166941-TAGRISSO-1                               1.0  \n1054868180-TAGRISSO-1                               1.0  \n1078555806-TAGRISSO-1                               1.0  \n1110384938-TAGRISSO-1                               1.0  \n\n[196 rows x 9 columns]",
      "text/html": "<div>\n<style scoped>\n    .dataframe tbody tr th:only-of-type {\n        vertical-align: middle;\n    }\n\n    .dataframe tbody tr th {\n        vertical-align: top;\n    }\n\n    .dataframe thead th {\n        text-align: right;\n    }\n</style>\n<table border=\"1\" class=\"dataframe\">\n  <thead>\n    <tr style=\"text-align: right;\">\n      <th></th>\n      <th>diarrhea_pd_count_unique</th>\n      <th>eye_pd_count_unique</th>\n      <th>infection_pd_count_unique</th>\n      <th>nail_pd_count_unique</th>\n      <th>neutropenia_pd_count_unique</th>\n      <th>qt_pd_count_unique</th>\n      <th>skin_pd_count_unique</th>\n      <th>stomatitis_pd_count_unique</th>\n      <th>thrombocytopenia_pd_count_unique</th>\n    </tr>\n    <tr>\n      <th>therapy_id</th>\n      <th></th>\n      <th></th>\n      <th></th>\n      <th></th>\n      <th></th>\n      <th></th>\n      <th></th>\n      <th></th>\n      <th></th>\n    </tr>\n  </thead>\n  <tbody>\n    <tr>\n      <th>1008520415-TAGRISSO-1</th>\n      <td>1.0</td>\n      <td>1.0</td>\n      <td>NaN</td>\n      <td>NaN</td>\n      <td>NaN</td>\n      <td>NaN</td>\n      <td>NaN</td>\n      <td>NaN</td>\n      <td>NaN</td>\n    </tr>\n    <tr>\n      <th>1011089073-TAGRISSO-1</th>\n      <td>2.0</td>\n      <td>NaN</td>\n      <td>NaN</td>\n      <td>NaN</td>\n      <td>NaN</td>\n      <td>NaN</td>\n      <td>1.0</td>\n      <td>NaN</td>\n      <td>NaN</td>\n    </tr>\n    <tr>\n      <th>1013219968-TAGRISSO-1</th>\n      <td>1.0</td>\n      <td>NaN</td>\n      <td>NaN</td>\n      <td>NaN</td>\n      <td>NaN</td>\n      <td>NaN</td>\n      <td>NaN</td>\n      <td>NaN</td>\n      <td>NaN</td>\n    </tr>\n    <tr>\n      <th>1016103876-TAGRISSO-1</th>\n      <td>1.0</td>\n      <td>NaN</td>\n      <td>NaN</td>\n      <td>NaN</td>\n      <td>NaN</td>\n      <td>NaN</td>\n      <td>NaN</td>\n      <td>NaN</td>\n      <td>NaN</td>\n    </tr>\n    <tr>\n      <th>1016891647-TAGRISSO-1</th>\n      <td>1.0</td>\n      <td>NaN</td>\n      <td>NaN</td>\n      <td>NaN</td>\n      <td>NaN</td>\n      <td>NaN</td>\n      <td>NaN</td>\n      <td>NaN</td>\n      <td>NaN</td>\n    </tr>\n    <tr>\n      <th>...</th>\n      <td>...</td>\n      <td>...</td>\n      <td>...</td>\n      <td>...</td>\n      <td>...</td>\n      <td>...</td>\n      <td>...</td>\n      <td>...</td>\n      <td>...</td>\n    </tr>\n    <tr>\n      <th>1013495938-TAGRISSO-1</th>\n      <td>NaN</td>\n      <td>NaN</td>\n      <td>NaN</td>\n      <td>NaN</td>\n      <td>NaN</td>\n      <td>NaN</td>\n      <td>NaN</td>\n      <td>NaN</td>\n      <td>1.0</td>\n    </tr>\n    <tr>\n      <th>1016166941-TAGRISSO-1</th>\n      <td>NaN</td>\n      <td>NaN</td>\n      <td>NaN</td>\n      <td>NaN</td>\n      <td>NaN</td>\n      <td>NaN</td>\n      <td>NaN</td>\n      <td>NaN</td>\n      <td>1.0</td>\n    </tr>\n    <tr>\n      <th>1054868180-TAGRISSO-1</th>\n      <td>NaN</td>\n      <td>NaN</td>\n      <td>NaN</td>\n      <td>NaN</td>\n      <td>NaN</td>\n      <td>NaN</td>\n      <td>NaN</td>\n      <td>NaN</td>\n      <td>1.0</td>\n    </tr>\n    <tr>\n      <th>1078555806-TAGRISSO-1</th>\n      <td>NaN</td>\n      <td>NaN</td>\n      <td>NaN</td>\n      <td>NaN</td>\n      <td>NaN</td>\n      <td>NaN</td>\n      <td>NaN</td>\n      <td>NaN</td>\n      <td>1.0</td>\n    </tr>\n    <tr>\n      <th>1110384938-TAGRISSO-1</th>\n      <td>NaN</td>\n      <td>NaN</td>\n      <td>NaN</td>\n      <td>NaN</td>\n      <td>NaN</td>\n      <td>NaN</td>\n      <td>NaN</td>\n      <td>NaN</td>\n      <td>1.0</td>\n    </tr>\n  </tbody>\n</table>\n<p>196 rows × 9 columns</p>\n</div>"
     },
     "execution_count": 181,
     "metadata": {},
     "output_type": "execute_result"
    }
   ],
   "source": [
    "pd_count_unique_df"
   ],
   "metadata": {
    "collapsed": false,
    "ExecuteTime": {
     "end_time": "2023-09-28T18:56:39.666449Z",
     "start_time": "2023-09-28T18:56:39.635188Z"
    }
   },
   "id": "e56b165409f43546"
  },
  {
   "cell_type": "code",
   "execution_count": 182,
   "outputs": [],
   "source": [
    "## for all sec diag\n",
    "### All side effects\n",
    "df_list = []\n",
    "for side_effect in sf_codes.keys():\n",
    "    df_list_ = []\n",
    "    for diag_col in diag_cols[1:]:\n",
    "        countuniq = medclms[medclms[diag_col].isin(sf_codes[side_effect])].groupby('therapy_id')[diag_col].nunique().reset_index()\n",
    "        countuniq.columns = ['therapy_id', f'{side_effect.lower()}_{diag_col}_count_unique']\n",
    "        countuniq = countuniq.set_index('therapy_id')\n",
    "        df_list_.append(countuniq)\n",
    "    df_ = pd.DataFrame(df_list_[0].join(df_list_[1:], how='outer').sum(axis=1)).reset_index()\n",
    "    df_.columns =['therapy_id', f'{side_effect.lower()}_sd_count_unique']\n",
    "    df_ = df_.set_index('therapy_id')\n",
    "    df_list.append(df_)\n",
    "sd_count_unique_df = df_list[0].join(df_list[1:], how='outer')"
   ],
   "metadata": {
    "collapsed": false,
    "ExecuteTime": {
     "end_time": "2023-09-28T18:59:03.392309Z",
     "start_time": "2023-09-28T18:59:03.128390Z"
    }
   },
   "id": "50a862bb552fcdbd"
  },
  {
   "cell_type": "code",
   "execution_count": 183,
   "outputs": [
    {
     "data": {
      "text/plain": "                       diarrhea_sd_count_unique  eye_sd_count_unique  \\\ntherapy_id                                                             \n1010187115-TAGRISSO-1                       2.0                  5.0   \n1010393275-TAGRISSO-1                       1.0                  NaN   \n1013219968-TAGRISSO-1                       1.0                  NaN   \n1016783257-TAGRISSO-1                       4.0                  NaN   \n1027867104-TAGRISSO-1                       2.0                  NaN   \n...                                         ...                  ...   \n1107106465-TAGRISSO-1                       NaN                  NaN   \n1122173495-TAGRISSO-1                       NaN                  NaN   \n1107373430-TAGRISSO-1                       NaN                  NaN   \n1005964858-TAGRISSO-1                       NaN                  NaN   \n1068446861-TAGRISSO-1                       NaN                  NaN   \n\n                       infection_sd_count_unique  nail_sd_count_unique  \\\ntherapy_id                                                               \n1010187115-TAGRISSO-1                        NaN                   NaN   \n1010393275-TAGRISSO-1                        NaN                   NaN   \n1013219968-TAGRISSO-1                        2.0                   NaN   \n1016783257-TAGRISSO-1                        NaN                   NaN   \n1027867104-TAGRISSO-1                        NaN                   NaN   \n...                                          ...                   ...   \n1107106465-TAGRISSO-1                        NaN                   NaN   \n1122173495-TAGRISSO-1                        NaN                   NaN   \n1107373430-TAGRISSO-1                        NaN                   NaN   \n1005964858-TAGRISSO-1                        NaN                   NaN   \n1068446861-TAGRISSO-1                        NaN                   NaN   \n\n                       neutropenia_sd_count_unique  qt_sd_count_unique  \\\ntherapy_id                                                               \n1010187115-TAGRISSO-1                          NaN                 NaN   \n1010393275-TAGRISSO-1                          NaN                 NaN   \n1013219968-TAGRISSO-1                          NaN                 NaN   \n1016783257-TAGRISSO-1                          2.0                 NaN   \n1027867104-TAGRISSO-1                          NaN                 NaN   \n...                                            ...                 ...   \n1107106465-TAGRISSO-1                          NaN                 NaN   \n1122173495-TAGRISSO-1                          NaN                 NaN   \n1107373430-TAGRISSO-1                          NaN                 NaN   \n1005964858-TAGRISSO-1                          NaN                 NaN   \n1068446861-TAGRISSO-1                          NaN                 NaN   \n\n                       skin_sd_count_unique  stomatitis_sd_count_unique  \\\ntherapy_id                                                                \n1010187115-TAGRISSO-1                   NaN                         NaN   \n1010393275-TAGRISSO-1                   NaN                         NaN   \n1013219968-TAGRISSO-1                   NaN                         NaN   \n1016783257-TAGRISSO-1                   4.0                         2.0   \n1027867104-TAGRISSO-1                   NaN                         NaN   \n...                                     ...                         ...   \n1107106465-TAGRISSO-1                   NaN                         NaN   \n1122173495-TAGRISSO-1                   NaN                         NaN   \n1107373430-TAGRISSO-1                   NaN                         NaN   \n1005964858-TAGRISSO-1                   NaN                         NaN   \n1068446861-TAGRISSO-1                   NaN                         NaN   \n\n                       thrombocytopenia_sd_count_unique  \ntherapy_id                                               \n1010187115-TAGRISSO-1                               NaN  \n1010393275-TAGRISSO-1                               NaN  \n1013219968-TAGRISSO-1                               NaN  \n1016783257-TAGRISSO-1                               2.0  \n1027867104-TAGRISSO-1                               NaN  \n...                                                 ...  \n1107106465-TAGRISSO-1                               1.0  \n1122173495-TAGRISSO-1                               1.0  \n1107373430-TAGRISSO-1                               2.0  \n1005964858-TAGRISSO-1                               3.0  \n1068446861-TAGRISSO-1                               1.0  \n\n[336 rows x 9 columns]",
      "text/html": "<div>\n<style scoped>\n    .dataframe tbody tr th:only-of-type {\n        vertical-align: middle;\n    }\n\n    .dataframe tbody tr th {\n        vertical-align: top;\n    }\n\n    .dataframe thead th {\n        text-align: right;\n    }\n</style>\n<table border=\"1\" class=\"dataframe\">\n  <thead>\n    <tr style=\"text-align: right;\">\n      <th></th>\n      <th>diarrhea_sd_count_unique</th>\n      <th>eye_sd_count_unique</th>\n      <th>infection_sd_count_unique</th>\n      <th>nail_sd_count_unique</th>\n      <th>neutropenia_sd_count_unique</th>\n      <th>qt_sd_count_unique</th>\n      <th>skin_sd_count_unique</th>\n      <th>stomatitis_sd_count_unique</th>\n      <th>thrombocytopenia_sd_count_unique</th>\n    </tr>\n    <tr>\n      <th>therapy_id</th>\n      <th></th>\n      <th></th>\n      <th></th>\n      <th></th>\n      <th></th>\n      <th></th>\n      <th></th>\n      <th></th>\n      <th></th>\n    </tr>\n  </thead>\n  <tbody>\n    <tr>\n      <th>1010187115-TAGRISSO-1</th>\n      <td>2.0</td>\n      <td>5.0</td>\n      <td>NaN</td>\n      <td>NaN</td>\n      <td>NaN</td>\n      <td>NaN</td>\n      <td>NaN</td>\n      <td>NaN</td>\n      <td>NaN</td>\n    </tr>\n    <tr>\n      <th>1010393275-TAGRISSO-1</th>\n      <td>1.0</td>\n      <td>NaN</td>\n      <td>NaN</td>\n      <td>NaN</td>\n      <td>NaN</td>\n      <td>NaN</td>\n      <td>NaN</td>\n      <td>NaN</td>\n      <td>NaN</td>\n    </tr>\n    <tr>\n      <th>1013219968-TAGRISSO-1</th>\n      <td>1.0</td>\n      <td>NaN</td>\n      <td>2.0</td>\n      <td>NaN</td>\n      <td>NaN</td>\n      <td>NaN</td>\n      <td>NaN</td>\n      <td>NaN</td>\n      <td>NaN</td>\n    </tr>\n    <tr>\n      <th>1016783257-TAGRISSO-1</th>\n      <td>4.0</td>\n      <td>NaN</td>\n      <td>NaN</td>\n      <td>NaN</td>\n      <td>2.0</td>\n      <td>NaN</td>\n      <td>4.0</td>\n      <td>2.0</td>\n      <td>2.0</td>\n    </tr>\n    <tr>\n      <th>1027867104-TAGRISSO-1</th>\n      <td>2.0</td>\n      <td>NaN</td>\n      <td>NaN</td>\n      <td>NaN</td>\n      <td>NaN</td>\n      <td>NaN</td>\n      <td>NaN</td>\n      <td>NaN</td>\n      <td>NaN</td>\n    </tr>\n    <tr>\n      <th>...</th>\n      <td>...</td>\n      <td>...</td>\n      <td>...</td>\n      <td>...</td>\n      <td>...</td>\n      <td>...</td>\n      <td>...</td>\n      <td>...</td>\n      <td>...</td>\n    </tr>\n    <tr>\n      <th>1107106465-TAGRISSO-1</th>\n      <td>NaN</td>\n      <td>NaN</td>\n      <td>NaN</td>\n      <td>NaN</td>\n      <td>NaN</td>\n      <td>NaN</td>\n      <td>NaN</td>\n      <td>NaN</td>\n      <td>1.0</td>\n    </tr>\n    <tr>\n      <th>1122173495-TAGRISSO-1</th>\n      <td>NaN</td>\n      <td>NaN</td>\n      <td>NaN</td>\n      <td>NaN</td>\n      <td>NaN</td>\n      <td>NaN</td>\n      <td>NaN</td>\n      <td>NaN</td>\n      <td>1.0</td>\n    </tr>\n    <tr>\n      <th>1107373430-TAGRISSO-1</th>\n      <td>NaN</td>\n      <td>NaN</td>\n      <td>NaN</td>\n      <td>NaN</td>\n      <td>NaN</td>\n      <td>NaN</td>\n      <td>NaN</td>\n      <td>NaN</td>\n      <td>2.0</td>\n    </tr>\n    <tr>\n      <th>1005964858-TAGRISSO-1</th>\n      <td>NaN</td>\n      <td>NaN</td>\n      <td>NaN</td>\n      <td>NaN</td>\n      <td>NaN</td>\n      <td>NaN</td>\n      <td>NaN</td>\n      <td>NaN</td>\n      <td>3.0</td>\n    </tr>\n    <tr>\n      <th>1068446861-TAGRISSO-1</th>\n      <td>NaN</td>\n      <td>NaN</td>\n      <td>NaN</td>\n      <td>NaN</td>\n      <td>NaN</td>\n      <td>NaN</td>\n      <td>NaN</td>\n      <td>NaN</td>\n      <td>1.0</td>\n    </tr>\n  </tbody>\n</table>\n<p>336 rows × 9 columns</p>\n</div>"
     },
     "execution_count": 183,
     "metadata": {},
     "output_type": "execute_result"
    }
   ],
   "source": [
    "sd_count_unique_df"
   ],
   "metadata": {
    "collapsed": false,
    "ExecuteTime": {
     "end_time": "2023-09-28T18:59:08.629074Z",
     "start_time": "2023-09-28T18:59:08.595764Z"
    }
   },
   "id": "158ab115332f1849"
  },
  {
   "cell_type": "code",
   "execution_count": 184,
   "outputs": [
    {
     "name": "stdout",
     "output_type": "stream",
     "text": [
      "Index(['diarrhea_pd_count_unique', 'eye_pd_count_unique',\n",
      "       'infection_pd_count_unique', 'nail_pd_count_unique',\n",
      "       'neutropenia_pd_count_unique', 'qt_pd_count_unique',\n",
      "       'skin_pd_count_unique', 'stomatitis_pd_count_unique',\n",
      "       'thrombocytopenia_pd_count_unique', 'diarrhea_sd_count_unique',\n",
      "       'eye_sd_count_unique', 'infection_sd_count_unique',\n",
      "       'nail_sd_count_unique', 'neutropenia_sd_count_unique',\n",
      "       'qt_sd_count_unique', 'skin_sd_count_unique',\n",
      "       'stomatitis_sd_count_unique', 'thrombocytopenia_sd_count_unique'],\n",
      "      dtype='object')\n",
      "No of columns : 18\n",
      "No of rows    : 364\n"
     ]
    }
   ],
   "source": [
    "count_unique_df = pd_count_unique_df.join(sd_count_unique_df, how='outer')\n",
    "print(count_unique_df.columns)\n",
    "print(f'No of columns : {len(count_unique_df.columns)}')\n",
    "print(f'No of rows    : {len(count_unique_df)}')"
   ],
   "metadata": {
    "collapsed": false,
    "ExecuteTime": {
     "end_time": "2023-09-28T19:00:01.960306Z",
     "start_time": "2023-09-28T19:00:01.920184Z"
    }
   },
   "id": "47d68c5c4ad8303c"
  },
  {
   "cell_type": "markdown",
   "source": [
    "## Final side effect features df"
   ],
   "metadata": {
    "collapsed": false
   },
   "id": "5d5deefa0e4d71f6"
  },
  {
   "cell_type": "code",
   "execution_count": 188,
   "outputs": [],
   "source": [
    "sf_df = count_all_df.join(count_unique_df, how='outer')\n",
    "sf_df.to_pickle(f'{os.getcwd()}/side_effects_df.pkl')"
   ],
   "metadata": {
    "collapsed": false,
    "ExecuteTime": {
     "end_time": "2023-09-28T19:07:19.023854Z",
     "start_time": "2023-09-28T19:07:19.013165Z"
    }
   },
   "id": "160b471869f12db"
  },
  {
   "cell_type": "code",
   "execution_count": null,
   "outputs": [],
   "source": [],
   "metadata": {
    "collapsed": false
   },
   "id": "d1adc05893ff09dd"
  }
 ],
 "metadata": {
  "kernelspec": {
   "display_name": "Python 3",
   "language": "python",
   "name": "python3"
  },
  "language_info": {
   "codemirror_mode": {
    "name": "ipython",
    "version": 2
   },
   "file_extension": ".py",
   "mimetype": "text/x-python",
   "name": "python",
   "nbconvert_exporter": "python",
   "pygments_lexer": "ipython2",
   "version": "2.7.6"
  }
 },
 "nbformat": 4,
 "nbformat_minor": 5
}
