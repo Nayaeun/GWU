{
 "cells": [
  {
   "cell_type": "code",
   "execution_count": 27,
   "id": "initial_id",
   "metadata": {
    "collapsed": true,
    "ExecuteTime": {
     "end_time": "2023-09-27T17:16:22.980056Z",
     "start_time": "2023-09-27T17:16:22.973961Z"
    }
   },
   "outputs": [],
   "source": [
    "import pandas as pd\n",
    "import numpy as np\n",
    "import os\n",
    "import matplotlib.pyplot as plt\n",
    "import pandas as pd\n",
    "import seaborn as sns\n",
    "import json"
   ]
  },
  {
   "cell_type": "markdown",
   "source": [
    "### Side-Effects of Osimetrinib"
   ],
   "metadata": {
    "collapsed": false
   },
   "id": "80c08ca3a12cc0fc"
  },
  {
   "cell_type": "markdown",
   "source": [
    "#### Common\n",
    "- Diarrhoea\n",
    "- Eyelid Pruritus\n",
    "- Increased risk of infection\n",
    "- Nail Discolouration\n",
    "- Nail Disorders\n",
    "- Skin reactions\n",
    "- Stomatitis\n",
    "\n",
    "#### Uncommon\n",
    "- Cutaneous Vasculitis\n",
    "- Eye Disorders\n",
    "- Eye Inflammation\n",
    "- QT Interval Prolongation\n",
    "\n",
    "#### Rare\n",
    "- Stevens-Jhonson syndrome\n",
    "\n",
    "#### Unknown Freq\n",
    "- Decreased leucocytes\n",
    "- Neutropenia\n",
    "- Thrombocytopenia"
   ],
   "metadata": {
    "collapsed": false
   },
   "id": "6e92e0aed1e12a84"
  },
  {
   "cell_type": "markdown",
   "source": [
    "#### Broad Text Searches for Side Effects\n",
    "- Diarrhea\n",
    "- Eye\n",
    "- Skin, Cutaneous\n",
    "- Nail \n",
    "- Infection\n",
    "- Stomatitis\n",
    "- QT \n",
    "- Stevens-Jhonson\n",
    "- Neutropenia, Leukopenia\n",
    "- Thrombocytopenia"
   ],
   "metadata": {
    "collapsed": false
   },
   "id": "9cd0a7d4f91e97fc"
  },
  {
   "cell_type": "code",
   "execution_count": 28,
   "outputs": [],
   "source": [
    "sideeff_list = [['Diarrhea'],['Eye'],['Skin', 'Cutaneous'],['Nail'],['Infection'],['Stomatitis'],['QT'],['Stevens-Jhonson'],['Neutropenia', 'Leukopenia'],['Thrombocytopenia']]"
   ],
   "metadata": {
    "collapsed": false,
    "ExecuteTime": {
     "end_time": "2023-09-27T17:16:24.925862Z",
     "start_time": "2023-09-27T17:16:24.921457Z"
    }
   },
   "id": "7673f63829693ebd"
  },
  {
   "cell_type": "code",
   "execution_count": 29,
   "outputs": [],
   "source": [
    "icd10_list = pd.read_csv(f'{os.getcwd()}/Section111ValidICD10-Jan2023-DupFixed.csv')"
   ],
   "metadata": {
    "collapsed": false,
    "ExecuteTime": {
     "end_time": "2023-09-27T17:16:25.425510Z",
     "start_time": "2023-09-27T17:16:25.312374Z"
    }
   },
   "id": "78a8b0c77e22a6fe"
  },
  {
   "cell_type": "code",
   "execution_count": 30,
   "outputs": [],
   "source": [
    "icd10_list = icd10_list.rename(columns={\n",
    "    'CODE' : 'code',\n",
    "    'SHORT DESCRIPTION (VALID ICD-10 FY2023)' : 's_desc',\n",
    "    'LONG DESCRIPTION (VALID ICD-10 FY2023)' : 'l_desc',\n",
    "    'NF EXCL' : 'nf_excl'\n",
    "})"
   ],
   "metadata": {
    "collapsed": false,
    "ExecuteTime": {
     "end_time": "2023-09-27T17:16:25.722624Z",
     "start_time": "2023-09-27T17:16:25.719890Z"
    }
   },
   "id": "59492beeb69fa536"
  },
  {
   "cell_type": "code",
   "execution_count": 31,
   "outputs": [
    {
     "data": {
      "text/plain": "3495    NaN\n3921    NaN\nName: l_desc, dtype: object"
     },
     "execution_count": 31,
     "metadata": {},
     "output_type": "execute_result"
    }
   ],
   "source": [
    "icd10_list.loc[icd10_list.l_desc.isnull(), 'l_desc']"
   ],
   "metadata": {
    "collapsed": false,
    "ExecuteTime": {
     "end_time": "2023-09-27T17:16:26.170457Z",
     "start_time": "2023-09-27T17:16:26.166835Z"
    }
   },
   "id": "5c39cb19168c2bdb"
  },
  {
   "cell_type": "code",
   "execution_count": 32,
   "outputs": [
    {
     "data": {
      "text/plain": "Series([], Name: l_desc, dtype: object)"
     },
     "execution_count": 32,
     "metadata": {},
     "output_type": "execute_result"
    }
   ],
   "source": [
    "icd10_list.loc[icd10_list.l_desc.isnull(), 'l_desc'] = ['','']\n",
    "icd10_list.loc[icd10_list.l_desc.isnull(), 'l_desc']"
   ],
   "metadata": {
    "collapsed": false,
    "ExecuteTime": {
     "end_time": "2023-09-27T17:16:26.577088Z",
     "start_time": "2023-09-27T17:16:26.572801Z"
    }
   },
   "id": "b5e82509e76b2770"
  },
  {
   "cell_type": "code",
   "execution_count": 33,
   "outputs": [],
   "source": [
    "substring = 'thrombocytopenia'\n",
    "req_code_list = list(icd10_list[icd10_list.s_desc.str.contains(substring, case=False)].code)+\\\n",
    "                list(icd10_list[icd10_list.l_desc.str.contains(substring, case=False)].code)\n",
    "req_code_list = list(set(req_code_list))"
   ],
   "metadata": {
    "collapsed": false,
    "ExecuteTime": {
     "end_time": "2023-09-27T17:16:27.049701Z",
     "start_time": "2023-09-27T17:16:26.984215Z"
    }
   },
   "id": "94988102f6ff3c3d"
  },
  {
   "cell_type": "code",
   "execution_count": 34,
   "outputs": [],
   "source": [
    "def find_diag_codes(substring:str):\n",
    "    req_code_list = list(icd10_list[icd10_list.s_desc.str.contains(substring, case=False)].code)+\\\n",
    "                    list(icd10_list[icd10_list.l_desc.str.contains(substring, case=False)].code)\n",
    "    return pd.Series(req_code_list, name='Codes').sort_values().reset_index(drop=True).to_list()"
   ],
   "metadata": {
    "collapsed": false,
    "ExecuteTime": {
     "end_time": "2023-09-27T17:16:27.437148Z",
     "start_time": "2023-09-27T17:16:27.432672Z"
    }
   },
   "id": "2f7b41aa1e522ed6"
  },
  {
   "cell_type": "code",
   "execution_count": 35,
   "outputs": [
    {
     "name": "stderr",
     "output_type": "stream",
     "text": [
      "/var/folders/gy/3csfmkt55nj5gqw1rm4_s1k00000gn/T/ipykernel_77176/2102634365.py:4: FutureWarning: The default dtype for empty Series will be 'object' instead of 'float64' in a future version. Specify a dtype explicitly to silence this warning.\n",
      "  return pd.Series(req_code_list, name='Codes').sort_values().reset_index(drop=True).to_list()\n"
     ]
    }
   ],
   "source": [
    "sideeff_codes = {}\n",
    "for sideeff_strings in sideeff_list:\n",
    "    _lst = []\n",
    "    for sideeff in sideeff_strings:\n",
    "        _lst = _lst + [code for code in find_diag_codes(sideeff)]\n",
    "    sideeff_codes[sideeff_strings[0]] = _lst"
   ],
   "metadata": {
    "collapsed": false,
    "ExecuteTime": {
     "end_time": "2023-09-27T17:16:28.862354Z",
     "start_time": "2023-09-27T17:16:27.878901Z"
    }
   },
   "id": "4e2f8250e7548c04"
  },
  {
   "cell_type": "code",
   "execution_count": 36,
   "outputs": [],
   "source": [
    "for key in sideeff_codes.keys():\n",
    "    sideeff_codes[key] = list(set(sideeff_codes[key]))"
   ],
   "metadata": {
    "collapsed": false,
    "ExecuteTime": {
     "end_time": "2023-09-27T17:16:34.349054Z",
     "start_time": "2023-09-27T17:16:34.340868Z"
    }
   },
   "id": "2c1812764180be88"
  },
  {
   "cell_type": "code",
   "execution_count": 37,
   "outputs": [],
   "source": [
    "with open(f'{os.getcwd()}/side_effect_codes.json', 'w+') as f:\n",
    "    json.dump(sideeff_codes, f, indent=4, sort_keys=True)"
   ],
   "metadata": {
    "collapsed": false,
    "ExecuteTime": {
     "end_time": "2023-09-27T17:16:34.970490Z",
     "start_time": "2023-09-27T17:16:34.964055Z"
    }
   },
   "id": "b85041d51342b6e4"
  },
  {
   "cell_type": "code",
   "execution_count": null,
   "outputs": [],
   "source": [],
   "metadata": {
    "collapsed": false
   },
   "id": "b9ab3bfa9e0fe712"
  }
 ],
 "metadata": {
  "kernelspec": {
   "display_name": "Python 3",
   "language": "python",
   "name": "python3"
  },
  "language_info": {
   "codemirror_mode": {
    "name": "ipython",
    "version": 2
   },
   "file_extension": ".py",
   "mimetype": "text/x-python",
   "name": "python",
   "nbconvert_exporter": "python",
   "pygments_lexer": "ipython2",
   "version": "2.7.6"
  }
 },
 "nbformat": 4,
 "nbformat_minor": 5
}
